{
 "cells": [
  {
   "cell_type": "markdown",
   "metadata": {},
   "source": [
    "### Canned Estimators How To"
   ]
  },
  {
   "cell_type": "markdown",
   "metadata": {},
   "source": [
    "In this notebook we'll demonstrate how to use two Canned Estimators (these encapsulate the lower-level TensorFlow code we've seen so far, and use an API loosely inspired by [scikit-learn](scikit-learn.org). There are several advantages to Canned Estimators.\n",
    "\n",
    "* If you're using Estimators, you won't have to manage Sessions, or write your own logic for TensorBoard, or for saving and loading checkpoints.\n",
    "\n",
    "* You'll get out-of-the-box distributed training (of course, you will have to take care to read your data efficiently, and set up a cluster).\n",
    "\n",
    "Here, we'll read data using [input functions](https://www.tensorflow.org/api_docs/python/tf/estimator/inputs/numpy_input_fn), which are appropriate for in-memory data. \n",
    "\n",
    "* These provide batching and other features for you, so you don't have to write that code yourself.\n",
    "* In the structured data notebook, we'll use the [Dataset API](https://github.com/tensorflow/tensorflow/blob/master/tensorflow/docs_src/programmers_guide/datasets.md) - which is a popular abstraction, and a great way to efficiently read and pre-process large datasets efficiently.\n",
    "\n",
    "Although the Estimators we'll use here are relative simple (a LinearClassifier, and a Fully Connected Deep Neural Network), we also provide more interesting ones (including for [TensorFlow Wide and Deep](https://www.tensorflow.org/tutorials/wide_and_deep). I'm also excited that additional Estimators are on their way - stay tuned in the upcoming months.\n",
    "\n",
    "Also note that Estimators log quite a lot of output"
   ]
  },
  {
   "cell_type": "code",
   "execution_count": 1,
   "metadata": {},
   "outputs": [
    {
     "name": "stderr",
     "output_type": "stream",
     "text": [
      "/Users/JosephNelson/anaconda3/lib/python3.6/site-packages/h5py/__init__.py:36: FutureWarning: Conversion of the second argument of issubdtype from `float` to `np.floating` is deprecated. In future, it will be treated as `np.float64 == np.dtype(float).type`.\n",
      "  from ._conv import register_converters as _register_converters\n"
     ]
    }
   ],
   "source": [
    "from __future__ import absolute_import\n",
    "from __future__ import division\n",
    "from __future__ import print_function\n",
    "\n",
    "import numpy as np\n",
    "import tensorflow as tf"
   ]
  },
  {
   "cell_type": "code",
   "execution_count": 2,
   "metadata": {},
   "outputs": [
    {
     "name": "stdout",
     "output_type": "stream",
     "text": [
      "60000 train samples\n",
      "10000 test samples\n"
     ]
    }
   ],
   "source": [
    "# We'll use Keras (included with TensorFlow) to import the data\n",
    "(x_train, y_train), (x_test, y_test) = tf.keras.datasets.mnist.load_data()\n",
    "\n",
    "x_train = x_train.astype('float32')\n",
    "x_test = x_test.astype('float32')\n",
    "\n",
    "y_train = y_train.astype('int32')\n",
    "y_test = y_test.astype('int32')\n",
    "\n",
    "# Normalize the color values to 0-1\n",
    "# (as imported, they're 0-255)\n",
    "x_train /= 255\n",
    "x_test /= 255\n",
    "\n",
    "print(x_train.shape[0], 'train samples')\n",
    "print(x_test.shape[0], 'test samples')"
   ]
  },
  {
   "cell_type": "markdown",
   "metadata": {},
   "source": [
    "Here's our input function. \n",
    "\n",
    "* By setting ```num_epochs``` to ```None```, we'll loop over the data indefinitely so we can train for as long as we like.\n",
    "* The default ```batch_size``` is ```128```, but you can provide a different parameter if you like.\n",
    "\n",
    "You can read more about the numpy input function [here](https://www.tensorflow.org/api_docs/python/tf/estimator/inputs/numpy_input_fn). One is on the way for [Pandas](https://www.tensorflow.org/api_docs/python/tf/estimator/inputs/pandas_input_fn)."
   ]
  },
  {
   "cell_type": "code",
   "execution_count": 3,
   "metadata": {},
   "outputs": [],
   "source": [
    "train_input = tf.estimator.inputs.numpy_input_fn(\n",
    "    {'x': x_train},\n",
    "    y_train, \n",
    "    num_epochs=None, # repeat forever\n",
    "    shuffle=True # \n",
    ")"
   ]
  },
  {
   "cell_type": "code",
   "execution_count": 4,
   "metadata": {},
   "outputs": [],
   "source": [
    "test_input = tf.estimator.inputs.numpy_input_fn(\n",
    "    {'x': x_test},\n",
    "    y_test,\n",
    "    num_epochs=1, # loop through the dataset once\n",
    "    shuffle=False # don't shuffle the test data\n",
    ")"
   ]
  },
  {
   "cell_type": "code",
   "execution_count": 5,
   "metadata": {},
   "outputs": [],
   "source": [
    "# define the features for our model\n",
    "# the names must match the input function\n",
    "feature_spec = [tf.feature_column.numeric_column('x', shape=784)]"
   ]
  },
  {
   "cell_type": "markdown",
   "metadata": {},
   "source": [
    "Here, we'll create a ```LinearClassifier``` - this is identical to Softmax (aka, multiclass logistic regression model)."
   ]
  },
  {
   "cell_type": "code",
   "execution_count": 6,
   "metadata": {},
   "outputs": [
    {
     "name": "stdout",
     "output_type": "stream",
     "text": [
      "INFO:tensorflow:Using default config.\n",
      "INFO:tensorflow:Using config: {'_model_dir': './graphs/canned/linear', '_tf_random_seed': None, '_save_summary_steps': 100, '_save_checkpoints_steps': None, '_save_checkpoints_secs': 600, '_session_config': None, '_keep_checkpoint_max': 5, '_keep_checkpoint_every_n_hours': 10000, '_log_step_count_steps': 100, '_service': None, '_cluster_spec': <tensorflow.python.training.server_lib.ClusterSpec object at 0x1821887390>, '_task_type': 'worker', '_task_id': 0, '_global_id_in_cluster': 0, '_master': '', '_evaluation_master': '', '_is_chief': True, '_num_ps_replicas': 0, '_num_worker_replicas': 1}\n"
     ]
    }
   ],
   "source": [
    "estimator = tf.estimator.LinearClassifier(feature_spec, \n",
    "                                          n_classes=10,\n",
    "                                          model_dir=\"./graphs/canned/linear\")"
   ]
  },
  {
   "cell_type": "code",
   "execution_count": 7,
   "metadata": {},
   "outputs": [
    {
     "name": "stdout",
     "output_type": "stream",
     "text": [
      "INFO:tensorflow:Calling model_fn.\n",
      "INFO:tensorflow:Done calling model_fn.\n",
      "INFO:tensorflow:Create CheckpointSaverHook.\n",
      "INFO:tensorflow:Graph was finalized.\n",
      "INFO:tensorflow:Restoring parameters from ./graphs/canned/linear/model.ckpt-1000\n",
      "INFO:tensorflow:Running local_init_op.\n",
      "INFO:tensorflow:Done running local_init_op.\n",
      "INFO:tensorflow:Saving checkpoints for 1001 into ./graphs/canned/linear/model.ckpt.\n",
      "INFO:tensorflow:loss = 40.047546, step = 1001\n",
      "INFO:tensorflow:global_step/sec: 505.469\n",
      "INFO:tensorflow:loss = 32.086037, step = 1101 (0.201 sec)\n",
      "INFO:tensorflow:global_step/sec: 465.805\n",
      "INFO:tensorflow:loss = 45.649136, step = 1201 (0.213 sec)\n",
      "INFO:tensorflow:global_step/sec: 600.42\n",
      "INFO:tensorflow:loss = 19.505938, step = 1301 (0.166 sec)\n",
      "INFO:tensorflow:global_step/sec: 519.46\n",
      "INFO:tensorflow:loss = 32.036507, step = 1401 (0.192 sec)\n",
      "INFO:tensorflow:global_step/sec: 521.943\n",
      "INFO:tensorflow:loss = 26.31308, step = 1501 (0.192 sec)\n",
      "INFO:tensorflow:global_step/sec: 486.66\n",
      "INFO:tensorflow:loss = 32.595985, step = 1601 (0.205 sec)\n",
      "INFO:tensorflow:global_step/sec: 561.776\n",
      "INFO:tensorflow:loss = 26.78518, step = 1701 (0.178 sec)\n",
      "INFO:tensorflow:global_step/sec: 501.741\n",
      "INFO:tensorflow:loss = 28.683552, step = 1801 (0.200 sec)\n",
      "INFO:tensorflow:global_step/sec: 566.053\n",
      "INFO:tensorflow:loss = 25.076565, step = 1901 (0.176 sec)\n",
      "INFO:tensorflow:Saving checkpoints for 2000 into ./graphs/canned/linear/model.ckpt.\n",
      "INFO:tensorflow:Loss for final step: 21.697983.\n"
     ]
    },
    {
     "data": {
      "text/plain": [
       "<tensorflow.python.estimator.canned.linear.LinearClassifier at 0x1821887f98>"
      ]
     },
     "execution_count": 7,
     "metadata": {},
     "output_type": "execute_result"
    }
   ],
   "source": [
    "# I've arbitrarily decided to train for 1000 steps\n",
    "estimator.train(train_input, steps=1000)"
   ]
  },
  {
   "cell_type": "code",
   "execution_count": 8,
   "metadata": {},
   "outputs": [
    {
     "name": "stdout",
     "output_type": "stream",
     "text": [
      "INFO:tensorflow:Calling model_fn.\n",
      "INFO:tensorflow:Done calling model_fn.\n",
      "INFO:tensorflow:Starting evaluation at 2018-04-11-09:14:08\n",
      "INFO:tensorflow:Graph was finalized.\n",
      "INFO:tensorflow:Restoring parameters from ./graphs/canned/linear/model.ckpt-2000\n",
      "INFO:tensorflow:Running local_init_op.\n",
      "INFO:tensorflow:Done running local_init_op.\n",
      "INFO:tensorflow:Finished evaluation at 2018-04-11-09:14:08\n",
      "INFO:tensorflow:Saving dict for global step 2000: accuracy = 0.9239, average_loss = 0.27364606, global_step = 2000, loss = 34.638744\n",
      "{'accuracy': 0.9239, 'average_loss': 0.27364606, 'loss': 34.638744, 'global_step': 2000}\n"
     ]
    }
   ],
   "source": [
    "# We should see about 90% accuracy here.\n",
    "evaluation = estimator.evaluate(input_fn=test_input)\n",
    "print(evaluation)"
   ]
  },
  {
   "cell_type": "markdown",
   "metadata": {},
   "source": [
    "Here's how you would print individual predictions."
   ]
  },
  {
   "cell_type": "code",
   "execution_count": 9,
   "metadata": {},
   "outputs": [
    {
     "name": "stdout",
     "output_type": "stream",
     "text": [
      "INFO:tensorflow:Calling model_fn.\n",
      "INFO:tensorflow:Done calling model_fn.\n",
      "INFO:tensorflow:Graph was finalized.\n",
      "INFO:tensorflow:Restoring parameters from ./graphs/canned/linear/model.ckpt-2000\n",
      "INFO:tensorflow:Running local_init_op.\n",
      "INFO:tensorflow:Done running local_init_op.\n",
      "Example 0. True: 7, Predicted: 7\n",
      "Example 1. True: 2, Predicted: 2\n",
      "Example 2. True: 1, Predicted: 1\n",
      "Example 3. True: 0, Predicted: 0\n",
      "Example 4. True: 4, Predicted: 4\n"
     ]
    }
   ],
   "source": [
    "MAX_TO_PRINT = 5\n",
    "\n",
    "# This returns a generator object\n",
    "predictions = estimator.predict(input_fn=test_input)\n",
    "i = 0\n",
    "for p in predictions:\n",
    "    true_label = y_test[i]\n",
    "    predicted_label = p['class_ids'][0]\n",
    "    print(\"Example %d. True: %d, Predicted: %d\" % (i, true_label, predicted_label))\n",
    "    i += 1\n",
    "    if i == MAX_TO_PRINT: break"
   ]
  },
  {
   "cell_type": "markdown",
   "metadata": {},
   "source": [
    "Here's how easy it is to switch the model to a fully connected DNN."
   ]
  },
  {
   "cell_type": "code",
   "execution_count": 10,
   "metadata": {},
   "outputs": [
    {
     "name": "stdout",
     "output_type": "stream",
     "text": [
      "INFO:tensorflow:Using default config.\n",
      "INFO:tensorflow:Using config: {'_model_dir': './graphs/canned/deep', '_tf_random_seed': None, '_save_summary_steps': 100, '_save_checkpoints_steps': None, '_save_checkpoints_secs': 600, '_session_config': None, '_keep_checkpoint_max': 5, '_keep_checkpoint_every_n_hours': 10000, '_log_step_count_steps': 100, '_service': None, '_cluster_spec': <tensorflow.python.training.server_lib.ClusterSpec object at 0x1831196ac8>, '_task_type': 'worker', '_task_id': 0, '_global_id_in_cluster': 0, '_master': '', '_evaluation_master': '', '_is_chief': True, '_num_ps_replicas': 0, '_num_worker_replicas': 1}\n"
     ]
    }
   ],
   "source": [
    "estimator = tf.estimator.DNNClassifier(\n",
    "    hidden_units=[256], # we will arbitrarily use two layers\n",
    "    feature_columns=feature_spec,\n",
    "    n_classes=10,\n",
    "    model_dir=\"./graphs/canned/deep\")"
   ]
  },
  {
   "cell_type": "code",
   "execution_count": 11,
   "metadata": {},
   "outputs": [
    {
     "name": "stdout",
     "output_type": "stream",
     "text": [
      "INFO:tensorflow:Calling model_fn.\n",
      "INFO:tensorflow:Done calling model_fn.\n",
      "INFO:tensorflow:Create CheckpointSaverHook.\n",
      "INFO:tensorflow:Graph was finalized.\n",
      "INFO:tensorflow:Restoring parameters from ./graphs/canned/deep/model.ckpt-4000\n",
      "INFO:tensorflow:Running local_init_op.\n",
      "INFO:tensorflow:Done running local_init_op.\n",
      "INFO:tensorflow:Saving checkpoints for 4001 into ./graphs/canned/deep/model.ckpt.\n",
      "INFO:tensorflow:loss = 3.905944, step = 4001\n",
      "INFO:tensorflow:global_step/sec: 242.926\n",
      "INFO:tensorflow:loss = 4.452634, step = 4101 (0.413 sec)\n",
      "INFO:tensorflow:global_step/sec: 194.155\n",
      "INFO:tensorflow:loss = 2.6407862, step = 4201 (0.515 sec)\n",
      "INFO:tensorflow:global_step/sec: 252.06\n",
      "INFO:tensorflow:loss = 3.3890014, step = 4301 (0.397 sec)\n",
      "INFO:tensorflow:global_step/sec: 198.867\n",
      "INFO:tensorflow:loss = 5.1384764, step = 4401 (0.504 sec)\n",
      "INFO:tensorflow:global_step/sec: 264.406\n",
      "INFO:tensorflow:loss = 1.609117, step = 4501 (0.377 sec)\n",
      "INFO:tensorflow:global_step/sec: 234.037\n",
      "INFO:tensorflow:loss = 2.2449627, step = 4601 (0.427 sec)\n",
      "INFO:tensorflow:global_step/sec: 257.341\n",
      "INFO:tensorflow:loss = 3.082642, step = 4701 (0.389 sec)\n",
      "INFO:tensorflow:global_step/sec: 253.566\n",
      "INFO:tensorflow:loss = 3.248833, step = 4801 (0.395 sec)\n",
      "INFO:tensorflow:global_step/sec: 243.131\n",
      "INFO:tensorflow:loss = 2.2412732, step = 4901 (0.411 sec)\n",
      "INFO:tensorflow:global_step/sec: 276.788\n",
      "INFO:tensorflow:loss = 1.3005302, step = 5001 (0.361 sec)\n",
      "INFO:tensorflow:global_step/sec: 259.378\n",
      "INFO:tensorflow:loss = 1.5392212, step = 5101 (0.386 sec)\n",
      "INFO:tensorflow:global_step/sec: 282.244\n",
      "INFO:tensorflow:loss = 1.6757178, step = 5201 (0.354 sec)\n",
      "INFO:tensorflow:global_step/sec: 246.526\n",
      "INFO:tensorflow:loss = 1.8149146, step = 5301 (0.406 sec)\n",
      "INFO:tensorflow:global_step/sec: 226.04\n",
      "INFO:tensorflow:loss = 2.8730655, step = 5401 (0.442 sec)\n",
      "INFO:tensorflow:global_step/sec: 258.219\n",
      "INFO:tensorflow:loss = 0.631516, step = 5501 (0.387 sec)\n",
      "INFO:tensorflow:global_step/sec: 233.542\n",
      "INFO:tensorflow:loss = 2.610464, step = 5601 (0.428 sec)\n",
      "INFO:tensorflow:global_step/sec: 258.746\n",
      "INFO:tensorflow:loss = 2.5091724, step = 5701 (0.389 sec)\n",
      "INFO:tensorflow:global_step/sec: 192.304\n",
      "INFO:tensorflow:loss = 3.665067, step = 5801 (0.517 sec)\n",
      "INFO:tensorflow:global_step/sec: 259.034\n",
      "INFO:tensorflow:loss = 1.5413169, step = 5901 (0.386 sec)\n",
      "INFO:tensorflow:Saving checkpoints for 6000 into ./graphs/canned/deep/model.ckpt.\n",
      "INFO:tensorflow:Loss for final step: 1.7312974.\n"
     ]
    },
    {
     "data": {
      "text/plain": [
       "<tensorflow.python.estimator.canned.dnn.DNNClassifier at 0x18311a4940>"
      ]
     },
     "execution_count": 11,
     "metadata": {},
     "output_type": "execute_result"
    }
   ],
   "source": [
    "# I've arbitrarily decided to train for 2000 steps\n",
    "estimator.train(train_input, steps=2000)"
   ]
  },
  {
   "cell_type": "code",
   "execution_count": 12,
   "metadata": {
    "scrolled": true
   },
   "outputs": [
    {
     "name": "stdout",
     "output_type": "stream",
     "text": [
      "INFO:tensorflow:Calling model_fn.\n",
      "INFO:tensorflow:Done calling model_fn.\n",
      "INFO:tensorflow:Starting evaluation at 2018-04-11-09:14:18\n",
      "INFO:tensorflow:Graph was finalized.\n",
      "INFO:tensorflow:Restoring parameters from ./graphs/canned/deep/model.ckpt-6000\n",
      "INFO:tensorflow:Running local_init_op.\n",
      "INFO:tensorflow:Done running local_init_op.\n",
      "INFO:tensorflow:Finished evaluation at 2018-04-11-09:14:18\n",
      "INFO:tensorflow:Saving dict for global step 6000: accuracy = 0.9788, average_loss = 0.06775848, global_step = 6000, loss = 8.577023\n",
      "{'accuracy': 0.9788, 'average_loss': 0.06775848, 'loss': 8.577023, 'global_step': 6000}\n"
     ]
    }
   ],
   "source": [
    "# Expect accuracy around 97%\n",
    "evaluation = estimator.evaluate(input_fn=test_input)\n",
    "print(evaluation)"
   ]
  },
  {
   "cell_type": "markdown",
   "metadata": {},
   "source": [
    "If you like, you can compare these runs with TensorBoard.\n",
    "\n",
    "``` $ tensorboard --logdir=graphs/canned/ ```"
   ]
  }
 ],
 "metadata": {
  "kernelspec": {
   "display_name": "Python 3",
   "language": "python",
   "name": "python3"
  },
  "language_info": {
   "codemirror_mode": {
    "name": "ipython",
    "version": 3
   },
   "file_extension": ".py",
   "mimetype": "text/x-python",
   "name": "python",
   "nbconvert_exporter": "python",
   "pygments_lexer": "ipython3",
   "version": "3.6.4"
  }
 },
 "nbformat": 4,
 "nbformat_minor": 2
}
