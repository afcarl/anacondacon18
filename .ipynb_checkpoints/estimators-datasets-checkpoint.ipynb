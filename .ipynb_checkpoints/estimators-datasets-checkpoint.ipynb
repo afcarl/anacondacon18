{
 "cells": [
  {
   "cell_type": "markdown",
   "metadata": {},
   "source": [
    "### Canned Estimators"
   ]
  },
  {
   "cell_type": "markdown",
   "metadata": {},
   "source": [
    "In this notebook we'll demonstrate how to use two Canned Estimators (these encapsulate the lower-level TensorFlow code we've seen so far, and use an API loosely inspired by [scikit-learn](scikit-learn.org). There are several advantages to Canned Estimators.\n",
    "\n",
    "* If you're using Estimators, you won't have to manage Sessions, or write your own logic for TensorBoard, or for saving and loading checkpoints.\n",
    "\n",
    "* You'll get out-of-the-box distributed training (of course, you will have to take care to read your data efficiently, and set up a cluster).\n",
    "\n",
    "Here, we'll read data using [input functions](https://www.tensorflow.org/api_docs/python/tf/estimator/inputs/numpy_input_fn), which are appropriate for in-memory data. \n",
    "\n",
    "* These provide batching and other features for you, so you don't have to write that code yourself.\n",
    "* In the structured data notebook, we'll use the [Dataset API](https://github.com/tensorflow/tensorflow/blob/master/tensorflow/docs_src/programmers_guide/datasets.md) - which is a popular abstraction, and a great way to efficiently read and pre-process large datasets efficiently.\n",
    "\n",
    "Although the Estimators we'll use here are relative simple (a LinearClassifier, and a Fully Connected Deep Neural Network), we also provide more interesting ones (including for [TensorFlow Wide and Deep](https://www.tensorflow.org/tutorials/wide_and_deep). I'm also excited that additional Estimators are on their way - stay tuned in the upcoming months.\n",
    "\n",
    "Also note that Estimators log quite a lot of output"
   ]
  },
  {
   "cell_type": "code",
   "execution_count": 1,
   "metadata": {},
   "outputs": [
    {
     "name": "stderr",
     "output_type": "stream",
     "text": [
      "/Users/JosephNelson/anaconda3/lib/python3.6/site-packages/h5py/__init__.py:36: FutureWarning: Conversion of the second argument of issubdtype from `float` to `np.floating` is deprecated. In future, it will be treated as `np.float64 == np.dtype(float).type`.\n",
      "  from ._conv import register_converters as _register_converters\n"
     ]
    }
   ],
   "source": [
    "from __future__ import absolute_import\n",
    "from __future__ import division\n",
    "from __future__ import print_function\n",
    "\n",
    "import numpy as np\n",
    "import tensorflow as tf"
   ]
  },
  {
   "cell_type": "code",
   "execution_count": 3,
   "metadata": {},
   "outputs": [
    {
     "name": "stdout",
     "output_type": "stream",
     "text": [
      "60000 train samples\n",
      "10000 test samples\n"
     ]
    }
   ],
   "source": [
    "# We'll use Keras (included with TensorFlow) to import the data\n",
    "(x_train, y_train), (x_test, y_test) = tf.keras.datasets.mnist.load_data()\n",
    "\n",
    "x_train = x_train.astype('float32')\n",
    "x_test = x_test.astype('float32')\n",
    "\n",
    "y_train = y_train.astype('int32')\n",
    "y_test = y_test.astype('int32')\n",
    "\n",
    "# Normalize the color values to 0-1\n",
    "# (as imported, they're 0-255)\n",
    "x_train /= 255\n",
    "x_test /= 255\n",
    "\n",
    "print(x_train.shape[0], 'train samples')\n",
    "print(x_test.shape[0], 'test samples')"
   ]
  },
  {
   "cell_type": "markdown",
   "metadata": {},
   "source": [
    "Here's our input function. \n",
    "\n",
    "* By setting ```num_epochs``` to ```None```, we'll loop over the data indefinitely so we can train for as long as we like.\n",
    "* The default ```batch_size``` is ```128```, but you can provide a different parameter if you like.\n",
    "\n",
    "You can read more about the numpy input function [here](https://www.tensorflow.org/api_docs/python/tf/estimator/inputs/numpy_input_fn). One is on the way for [Pandas](https://www.tensorflow.org/api_docs/python/tf/estimator/inputs/pandas_input_fn)."
   ]
  },
  {
   "cell_type": "code",
   "execution_count": 4,
   "metadata": {},
   "outputs": [],
   "source": [
    "train_input = tf.estimator.inputs.numpy_input_fn(\n",
    "    {'x': x_train},\n",
    "    y_train, \n",
    "    num_epochs=None, # repeat forever\n",
    "    shuffle=True # \n",
    ")"
   ]
  },
  {
   "cell_type": "code",
   "execution_count": 5,
   "metadata": {},
   "outputs": [],
   "source": [
    "test_input = tf.estimator.inputs.numpy_input_fn(\n",
    "    {'x': x_test},\n",
    "    y_test,\n",
    "    num_epochs=1, # loop through the dataset once\n",
    "    shuffle=False # don't shuffle the test data\n",
    ")"
   ]
  },
  {
   "cell_type": "code",
   "execution_count": 6,
   "metadata": {},
   "outputs": [],
   "source": [
    "# define the features for our model\n",
    "# the names must match the input function\n",
    "feature_spec = [tf.feature_column.numeric_column('x', shape=784)]"
   ]
  },
  {
   "cell_type": "markdown",
   "metadata": {},
   "source": [
    "Here, we'll create a ```LinearClassifier``` - this is identical to Softmax (aka, multiclass logistic regression model)."
   ]
  },
  {
   "cell_type": "code",
   "execution_count": 7,
   "metadata": {},
   "outputs": [
    {
     "name": "stdout",
     "output_type": "stream",
     "text": [
      "INFO:tensorflow:Using default config.\n",
      "INFO:tensorflow:Using config: {'_model_dir': './graphs/canned/linear', '_tf_random_seed': None, '_save_summary_steps': 100, '_save_checkpoints_steps': None, '_save_checkpoints_secs': 600, '_session_config': None, '_keep_checkpoint_max': 5, '_keep_checkpoint_every_n_hours': 10000, '_log_step_count_steps': 100, '_service': None, '_cluster_spec': <tensorflow.python.training.server_lib.ClusterSpec object at 0x181daa15f8>, '_task_type': 'worker', '_task_id': 0, '_global_id_in_cluster': 0, '_master': '', '_evaluation_master': '', '_is_chief': True, '_num_ps_replicas': 0, '_num_worker_replicas': 1}\n"
     ]
    }
   ],
   "source": [
    "estimator = tf.estimator.LinearClassifier(feature_spec, \n",
    "                                          n_classes=10,\n",
    "                                          model_dir=\"./graphs/canned/linear\")"
   ]
  },
  {
   "cell_type": "code",
   "execution_count": 8,
   "metadata": {},
   "outputs": [
    {
     "name": "stdout",
     "output_type": "stream",
     "text": [
      "INFO:tensorflow:Calling model_fn.\n",
      "INFO:tensorflow:Done calling model_fn.\n",
      "INFO:tensorflow:Create CheckpointSaverHook.\n",
      "INFO:tensorflow:Graph was finalized.\n",
      "INFO:tensorflow:Running local_init_op.\n",
      "INFO:tensorflow:Done running local_init_op.\n",
      "INFO:tensorflow:Saving checkpoints for 1 into ./graphs/canned/linear/model.ckpt.\n",
      "INFO:tensorflow:loss = 294.73093, step = 1\n",
      "INFO:tensorflow:global_step/sec: 313.183\n",
      "INFO:tensorflow:loss = 50.474503, step = 101 (0.322 sec)\n",
      "INFO:tensorflow:global_step/sec: 449.406\n",
      "INFO:tensorflow:loss = 48.270863, step = 201 (0.220 sec)\n",
      "INFO:tensorflow:global_step/sec: 412.14\n",
      "INFO:tensorflow:loss = 44.239475, step = 301 (0.243 sec)\n",
      "INFO:tensorflow:global_step/sec: 403.437\n",
      "INFO:tensorflow:loss = 14.907955, step = 401 (0.250 sec)\n",
      "INFO:tensorflow:global_step/sec: 415.751\n",
      "INFO:tensorflow:loss = 36.22699, step = 501 (0.240 sec)\n",
      "INFO:tensorflow:global_step/sec: 442.735\n",
      "INFO:tensorflow:loss = 45.96456, step = 601 (0.226 sec)\n",
      "INFO:tensorflow:global_step/sec: 466.415\n",
      "INFO:tensorflow:loss = 32.015694, step = 701 (0.213 sec)\n",
      "INFO:tensorflow:global_step/sec: 486.919\n",
      "INFO:tensorflow:loss = 41.633465, step = 801 (0.205 sec)\n",
      "INFO:tensorflow:global_step/sec: 423.62\n",
      "INFO:tensorflow:loss = 19.062632, step = 901 (0.236 sec)\n",
      "INFO:tensorflow:Saving checkpoints for 1000 into ./graphs/canned/linear/model.ckpt.\n",
      "INFO:tensorflow:Loss for final step: 41.72443.\n"
     ]
    },
    {
     "data": {
      "text/plain": [
       "<tensorflow.python.estimator.canned.linear.LinearClassifier at 0x181daa1080>"
      ]
     },
     "execution_count": 8,
     "metadata": {},
     "output_type": "execute_result"
    }
   ],
   "source": [
    "# I've arbitrarily decided to train for 1000 steps\n",
    "estimator.train(train_input, steps=1000)"
   ]
  },
  {
   "cell_type": "code",
   "execution_count": 9,
   "metadata": {},
   "outputs": [
    {
     "name": "stdout",
     "output_type": "stream",
     "text": [
      "INFO:tensorflow:Calling model_fn.\n",
      "INFO:tensorflow:Done calling model_fn.\n",
      "INFO:tensorflow:Starting evaluation at 2018-04-11-09:07:23\n",
      "INFO:tensorflow:Graph was finalized.\n",
      "INFO:tensorflow:Restoring parameters from ./graphs/canned/linear/model.ckpt-1000\n",
      "INFO:tensorflow:Running local_init_op.\n",
      "INFO:tensorflow:Done running local_init_op.\n",
      "INFO:tensorflow:Finished evaluation at 2018-04-11-09:07:24\n",
      "INFO:tensorflow:Saving dict for global step 1000: accuracy = 0.9181, average_loss = 0.28561392, global_step = 1000, loss = 36.15366\n",
      "{'accuracy': 0.9181, 'average_loss': 0.28561392, 'loss': 36.15366, 'global_step': 1000}\n"
     ]
    }
   ],
   "source": [
    "# We should see about 90% accuracy here.\n",
    "evaluation = estimator.evaluate(input_fn=test_input)\n",
    "print(evaluation)"
   ]
  },
  {
   "cell_type": "markdown",
   "metadata": {},
   "source": [
    "Here's how you would print individual predictions."
   ]
  },
  {
   "cell_type": "code",
   "execution_count": 10,
   "metadata": {},
   "outputs": [
    {
     "name": "stdout",
     "output_type": "stream",
     "text": [
      "INFO:tensorflow:Calling model_fn.\n",
      "INFO:tensorflow:Done calling model_fn.\n",
      "INFO:tensorflow:Graph was finalized.\n",
      "INFO:tensorflow:Restoring parameters from ./graphs/canned/linear/model.ckpt-1000\n",
      "INFO:tensorflow:Running local_init_op.\n",
      "INFO:tensorflow:Done running local_init_op.\n",
      "Example 0. True: 7, Predicted: 7\n",
      "Example 1. True: 2, Predicted: 2\n",
      "Example 2. True: 1, Predicted: 1\n",
      "Example 3. True: 0, Predicted: 0\n",
      "Example 4. True: 4, Predicted: 4\n"
     ]
    }
   ],
   "source": [
    "MAX_TO_PRINT = 5\n",
    "\n",
    "# This returns a generator object\n",
    "predictions = estimator.predict(input_fn=test_input)\n",
    "i = 0\n",
    "for p in predictions:\n",
    "    true_label = y_test[i]\n",
    "    predicted_label = p['class_ids'][0]\n",
    "    print(\"Example %d. True: %d, Predicted: %d\" % (i, true_label, predicted_label))\n",
    "    i += 1\n",
    "    if i == MAX_TO_PRINT: break"
   ]
  },
  {
   "cell_type": "markdown",
   "metadata": {},
   "source": [
    "Here's how easy it is to switch the model to a fully connected DNN."
   ]
  },
  {
   "cell_type": "code",
   "execution_count": 16,
   "metadata": {},
   "outputs": [
    {
     "name": "stdout",
     "output_type": "stream",
     "text": [
      "INFO:tensorflow:Using default config.\n",
      "INFO:tensorflow:Using config: {'_model_dir': './graphs/canned/deep', '_tf_random_seed': None, '_save_summary_steps': 100, '_save_checkpoints_steps': None, '_save_checkpoints_secs': 600, '_session_config': None, '_keep_checkpoint_max': 5, '_keep_checkpoint_every_n_hours': 10000, '_log_step_count_steps': 100, '_service': None, '_cluster_spec': <tensorflow.python.training.server_lib.ClusterSpec object at 0x1c397f9518>, '_task_type': 'worker', '_task_id': 0, '_global_id_in_cluster': 0, '_master': '', '_evaluation_master': '', '_is_chief': True, '_num_ps_replicas': 0, '_num_worker_replicas': 1}\n"
     ]
    }
   ],
   "source": [
    "estimator = tf.estimator.DNNClassifier(\n",
    "    hidden_units=[256], # we will arbitrarily use two layers\n",
    "    feature_columns=feature_spec,\n",
    "    n_classes=10,\n",
    "    model_dir=\"./graphs/canned/deep\")"
   ]
  },
  {
   "cell_type": "code",
   "execution_count": 17,
   "metadata": {},
   "outputs": [
    {
     "name": "stdout",
     "output_type": "stream",
     "text": [
      "INFO:tensorflow:Calling model_fn.\n",
      "INFO:tensorflow:Done calling model_fn.\n",
      "INFO:tensorflow:Create CheckpointSaverHook.\n",
      "INFO:tensorflow:Graph was finalized.\n",
      "INFO:tensorflow:Restoring parameters from ./graphs/canned/deep/model.ckpt-2000\n",
      "INFO:tensorflow:Running local_init_op.\n",
      "INFO:tensorflow:Done running local_init_op.\n",
      "INFO:tensorflow:Saving checkpoints for 2001 into ./graphs/canned/deep/model.ckpt.\n",
      "INFO:tensorflow:loss = 1.8445178, step = 2001\n",
      "INFO:tensorflow:global_step/sec: 174.883\n",
      "INFO:tensorflow:loss = 13.543915, step = 2101 (0.573 sec)\n",
      "INFO:tensorflow:global_step/sec: 208.047\n",
      "INFO:tensorflow:loss = 4.0574026, step = 2201 (0.480 sec)\n",
      "INFO:tensorflow:global_step/sec: 231.562\n",
      "INFO:tensorflow:loss = 2.8251023, step = 2301 (0.432 sec)\n",
      "INFO:tensorflow:global_step/sec: 243.577\n",
      "INFO:tensorflow:loss = 15.567596, step = 2401 (0.410 sec)\n",
      "INFO:tensorflow:global_step/sec: 156.487\n",
      "INFO:tensorflow:loss = 2.6407738, step = 2501 (0.641 sec)\n",
      "INFO:tensorflow:global_step/sec: 193.226\n",
      "INFO:tensorflow:loss = 5.717755, step = 2601 (0.516 sec)\n",
      "INFO:tensorflow:global_step/sec: 212.029\n",
      "INFO:tensorflow:loss = 14.730666, step = 2701 (0.472 sec)\n",
      "INFO:tensorflow:global_step/sec: 260.575\n",
      "INFO:tensorflow:loss = 2.92935, step = 2801 (0.384 sec)\n",
      "INFO:tensorflow:global_step/sec: 230.669\n",
      "INFO:tensorflow:loss = 7.9066744, step = 2901 (0.433 sec)\n",
      "INFO:tensorflow:global_step/sec: 266.828\n",
      "INFO:tensorflow:loss = 4.3530073, step = 3001 (0.375 sec)\n",
      "INFO:tensorflow:global_step/sec: 250.406\n",
      "INFO:tensorflow:loss = 4.961129, step = 3101 (0.399 sec)\n",
      "INFO:tensorflow:global_step/sec: 257.871\n",
      "INFO:tensorflow:loss = 5.060288, step = 3201 (0.388 sec)\n",
      "INFO:tensorflow:global_step/sec: 272.774\n",
      "INFO:tensorflow:loss = 2.6881266, step = 3301 (0.367 sec)\n",
      "INFO:tensorflow:global_step/sec: 255.655\n",
      "INFO:tensorflow:loss = 1.9491398, step = 3401 (0.391 sec)\n",
      "INFO:tensorflow:global_step/sec: 243.739\n",
      "INFO:tensorflow:loss = 1.7964253, step = 3501 (0.410 sec)\n",
      "INFO:tensorflow:global_step/sec: 255.271\n",
      "INFO:tensorflow:loss = 3.091936, step = 3601 (0.391 sec)\n",
      "INFO:tensorflow:global_step/sec: 230.763\n",
      "INFO:tensorflow:loss = 5.009951, step = 3701 (0.433 sec)\n",
      "INFO:tensorflow:global_step/sec: 255.387\n",
      "INFO:tensorflow:loss = 3.1641207, step = 3801 (0.392 sec)\n",
      "INFO:tensorflow:global_step/sec: 235.461\n",
      "INFO:tensorflow:loss = 1.8943392, step = 3901 (0.424 sec)\n",
      "INFO:tensorflow:Saving checkpoints for 4000 into ./graphs/canned/deep/model.ckpt.\n",
      "INFO:tensorflow:Loss for final step: 5.502118.\n"
     ]
    },
    {
     "data": {
      "text/plain": [
       "<tensorflow.python.estimator.canned.dnn.DNNClassifier at 0x1c397f92b0>"
      ]
     },
     "execution_count": 17,
     "metadata": {},
     "output_type": "execute_result"
    }
   ],
   "source": [
    "# I've arbitrarily decided to train for 2000 steps\n",
    "estimator.train(train_input, steps=2000)"
   ]
  },
  {
   "cell_type": "code",
   "execution_count": 13,
   "metadata": {
    "scrolled": true
   },
   "outputs": [
    {
     "name": "stdout",
     "output_type": "stream",
     "text": [
      "INFO:tensorflow:Calling model_fn.\n",
      "INFO:tensorflow:Done calling model_fn.\n",
      "INFO:tensorflow:Starting evaluation at 2018-04-11-09:07:47\n",
      "INFO:tensorflow:Graph was finalized.\n",
      "INFO:tensorflow:Restoring parameters from ./graphs/canned/deep/model.ckpt-2000\n",
      "INFO:tensorflow:Running local_init_op.\n",
      "INFO:tensorflow:Done running local_init_op.\n",
      "INFO:tensorflow:Finished evaluation at 2018-04-11-09:07:47\n",
      "INFO:tensorflow:Saving dict for global step 2000: accuracy = 0.9769, average_loss = 0.077503875, global_step = 2000, loss = 9.810617\n",
      "{'accuracy': 0.9769, 'average_loss': 0.077503875, 'loss': 9.810617, 'global_step': 2000}\n"
     ]
    }
   ],
   "source": [
    "# Expect accuracy around 97%\n",
    "evaluation = estimator.evaluate(input_fn=test_input)\n",
    "print(evaluation)"
   ]
  },
  {
   "cell_type": "markdown",
   "metadata": {},
   "source": [
    "If you like, you can compare these runs with TensorBoard.\n",
    "\n",
    "``` $ tensorboard --logdir=graphs/canned/ ```"
   ]
  }
 ],
 "metadata": {
  "kernelspec": {
   "display_name": "Python 3",
   "language": "python",
   "name": "python3"
  },
  "language_info": {
   "codemirror_mode": {
    "name": "ipython",
    "version": 3
   },
   "file_extension": ".py",
   "mimetype": "text/x-python",
   "name": "python",
   "nbconvert_exporter": "python",
   "pygments_lexer": "ipython3",
   "version": "3.6.4"
  }
 },
 "nbformat": 4,
 "nbformat_minor": 2
}
